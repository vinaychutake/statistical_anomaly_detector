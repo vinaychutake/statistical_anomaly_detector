{
 "cells": [
  {
   "cell_type": "markdown",
   "id": "d42b697b-8d46-4d9d-8162-2c72b2d9e568",
   "metadata": {},
   "source": [
    "## Anomaly Detection with Rolling Z-Score (Time Series Data)"
   ]
  },
  {
   "cell_type": "markdown",
   "id": "65ff05f6-bb44-4bfb-8fae-391bd8e055b8",
   "metadata": {},
   "source": [
    "#### Objective\n",
    "Develop a robust anomaly detection system that:\n",
    "1. Identifies unexpected spikes/drops in time series data\n",
    "2. Learns normal patterns from historical trends\n",
    "3. Provides visual and statistical evidence for anomalies\n",
    "4. Validates new data points against learned patterns"
   ]
  },
  {
   "cell_type": "markdown",
   "id": "89ae570d-6aab-4f5d-bd28-e4f6bac47257",
   "metadata": {},
   "source": [
    "#### Business Use cases\n",
    "1. **Financial Monitoring**: Detect unusual transactions or revenue fluctuations\n",
    "2. **IT Operations**: Identify abnormal server metrics or traffic patterns  \n",
    "3. **Manufacturing**: Spot defects in production line sensor data\n",
    "4. **Inventory Management**: Catch unexpected changes in stock levels"
   ]
  },
  {
   "cell_type": "markdown",
   "id": "4aeced47-88f3-4885-8809-47109232e30b",
   "metadata": {},
   "source": [
    "#### Implementation Details/Flow\n",
    "1. **Data Load and cleanup**\n",
    "2. **Baseline Calculation**: Compute 7-day rolling mean/std with 5-period warmup, Fallback to expanding stats for initial periods\n",
    "3. **Anomaly Scoring**: \n",
    "    - Calculate Z-scores: (current - mean) / std\n",
    "    - Flag points where |Z-score| > 2.5\n",
    "4. **Trend Validation**:\n",
    "    - Compare with prior window's slope\n",
    "    - Confirm anomalies break established patterns\n",
    "5. **Visualization**: Generate time series plot with anomalies highlighted\n",
    "6. **New Data Evaluation**: Recalculate window stats, Compute Z-score, Return boolean flag"
   ]
  },
  {
   "cell_type": "markdown",
   "id": "33cf0908-01e8-475d-bb76-49e75c42390b",
   "metadata": {},
   "source": [
    "## 1. Import Libraries"
   ]
  },
  {
   "cell_type": "code",
   "execution_count": 1,
   "id": "1c5cee38-fb1b-4dcf-adef-9eeeba42923c",
   "metadata": {},
   "outputs": [],
   "source": [
    "# Import required libraries\n",
    "import pandas as pd\n",
    "import numpy as np\n",
    "import matplotlib.pyplot as plt\n",
    "import uuid\n",
    "from IPython.display import display"
   ]
  },
  {
   "cell_type": "markdown",
   "id": "0f4680fd-d991-4cd7-a339-84130006129c",
   "metadata": {},
   "source": [
    "## 2. Load Data"
   ]
  },
  {
   "cell_type": "code",
   "execution_count": 2,
   "id": "9af3c296-b778-42b2-bb57-665ee07ebcf1",
   "metadata": {},
   "outputs": [],
   "source": [
    "def load_data(file_path: str) -> pd.DataFrame:\n",
    "    \"\"\"Load and format CSV data.\"\"\"\n",
    "    df = pd.read_csv(file_path)\n",
    "    df['business_date'] = pd.to_datetime(df['business_date'], format='%Y%m%d')\n",
    "    return df"
   ]
  },
  {
   "cell_type": "code",
   "execution_count": 3,
   "id": "90942b54-7d5a-4439-b94b-b9a4b2a7e8eb",
   "metadata": {},
   "outputs": [
    {
     "name": "stdout",
     "output_type": "stream",
     "text": [
      "Loading data...\n"
     ]
    },
    {
     "data": {
      "text/html": [
       "<div>\n",
       "<style scoped>\n",
       "    .dataframe tbody tr th:only-of-type {\n",
       "        vertical-align: middle;\n",
       "    }\n",
       "\n",
       "    .dataframe tbody tr th {\n",
       "        vertical-align: top;\n",
       "    }\n",
       "\n",
       "    .dataframe thead th {\n",
       "        text-align: right;\n",
       "    }\n",
       "</style>\n",
       "<table border=\"1\" class=\"dataframe\">\n",
       "  <thead>\n",
       "    <tr style=\"text-align: right;\">\n",
       "      <th></th>\n",
       "      <th>business_date</th>\n",
       "      <th>row_op</th>\n",
       "    </tr>\n",
       "  </thead>\n",
       "  <tbody>\n",
       "    <tr>\n",
       "      <th>0</th>\n",
       "      <td>2025-01-01</td>\n",
       "      <td>100.496714</td>\n",
       "    </tr>\n",
       "    <tr>\n",
       "      <th>1</th>\n",
       "      <td>2025-01-02</td>\n",
       "      <td>101.148408</td>\n",
       "    </tr>\n",
       "    <tr>\n",
       "      <th>2</th>\n",
       "      <td>2025-01-03</td>\n",
       "      <td>101.800103</td>\n",
       "    </tr>\n",
       "  </tbody>\n",
       "</table>\n",
       "</div>"
      ],
      "text/plain": [
       "  business_date      row_op\n",
       "0    2025-01-01  100.496714\n",
       "1    2025-01-02  101.148408\n",
       "2    2025-01-03  101.800103"
      ]
     },
     "metadata": {},
     "output_type": "display_data"
    }
   ],
   "source": [
    "# Load sample data\n",
    "print(\"Loading data...\")\n",
    "df = load_data('trends.csv')\n",
    "display(df.head(3))"
   ]
  },
  {
   "cell_type": "markdown",
   "id": "78f3ce5a-b6a4-4c8b-b970-8b3b6ace5d5b",
   "metadata": {},
   "source": [
    "## 3. Detect Anomalies Function"
   ]
  },
  {
   "cell_type": "code",
   "execution_count": 4,
   "id": "aa600372-3c13-49aa-99aa-1211bf0d4bdc",
   "metadata": {},
   "outputs": [],
   "source": [
    "def detect_anomalies(df: pd.DataFrame, window: int = 10, threshold: float = 1.5) -> pd.DataFrame:\n",
    "    \"\"\"Detect anomalies using Z-score on rolling window.\"\"\"\n",
    "    if df.empty:\n",
    "        raise ValueError(\"Dataframe is empty\")\n",
    "        \n",
    "    # Calculate rolling statistics\n",
    "    df['rolling_mean'] = df['row_op'].rolling(window=window, min_periods=1).mean()\n",
    "    df['rolling_std'] = df['row_op'].rolling(window=window, min_periods=1).std()\n",
    "    df['rolling_std'] = df['rolling_std'].fillna(1.0)\n",
    "    \n",
    "    # Calculate Z-scores\n",
    "    df['z_score'] = (df['row_op'] - df['rolling_mean']) / df['rolling_std']\n",
    "    df['is_anomaly'] = df['z_score'].abs() > threshold\n",
    "    \n",
    "    # Show diagnostic info\n",
    "    print(f\"Max Z-score: {df['z_score'].abs().max():.2f}\")\n",
    "    print(\"\\nTop 3 potential outliers:\")\n",
    "    display(df[['business_date', 'row_op', 'z_score']].nlargest(3, 'z_score', keep='all'))\n",
    "    \n",
    "    return df"
   ]
  },
  {
   "cell_type": "code",
   "execution_count": 5,
   "id": "4f32831c-8d7d-4f8f-8496-de3c266708fd",
   "metadata": {},
   "outputs": [
    {
     "name": "stdout",
     "output_type": "stream",
     "text": [
      "Max Z-score: 2.85\n",
      "\n",
      "Top 3 potential outliers:\n"
     ]
    },
    {
     "data": {
      "text/html": [
       "<div>\n",
       "<style scoped>\n",
       "    .dataframe tbody tr th:only-of-type {\n",
       "        vertical-align: middle;\n",
       "    }\n",
       "\n",
       "    .dataframe tbody tr th {\n",
       "        vertical-align: top;\n",
       "    }\n",
       "\n",
       "    .dataframe thead th {\n",
       "        text-align: right;\n",
       "    }\n",
       "</style>\n",
       "<table border=\"1\" class=\"dataframe\">\n",
       "  <thead>\n",
       "    <tr style=\"text-align: right;\">\n",
       "      <th></th>\n",
       "      <th>business_date</th>\n",
       "      <th>row_op</th>\n",
       "      <th>z_score</th>\n",
       "    </tr>\n",
       "  </thead>\n",
       "  <tbody>\n",
       "    <tr>\n",
       "      <th>9</th>\n",
       "      <td>2025-01-14</td>\n",
       "      <td>300.00000</td>\n",
       "      <td>2.845011</td>\n",
       "    </tr>\n",
       "    <tr>\n",
       "      <th>92</th>\n",
       "      <td>2025-05-09</td>\n",
       "      <td>180.00000</td>\n",
       "      <td>2.780993</td>\n",
       "    </tr>\n",
       "    <tr>\n",
       "      <th>19</th>\n",
       "      <td>2025-01-28</td>\n",
       "      <td>111.87891</td>\n",
       "      <td>1.486301</td>\n",
       "    </tr>\n",
       "  </tbody>\n",
       "</table>\n",
       "</div>"
      ],
      "text/plain": [
       "   business_date     row_op   z_score\n",
       "9     2025-01-14  300.00000  2.845011\n",
       "92    2025-05-09  180.00000  2.780993\n",
       "19    2025-01-28  111.87891  1.486301"
      ]
     },
     "metadata": {},
     "output_type": "display_data"
    },
    {
     "data": {
      "text/html": [
       "<div>\n",
       "<style scoped>\n",
       "    .dataframe tbody tr th:only-of-type {\n",
       "        vertical-align: middle;\n",
       "    }\n",
       "\n",
       "    .dataframe tbody tr th {\n",
       "        vertical-align: top;\n",
       "    }\n",
       "\n",
       "    .dataframe thead th {\n",
       "        text-align: right;\n",
       "    }\n",
       "</style>\n",
       "<table border=\"1\" class=\"dataframe\">\n",
       "  <thead>\n",
       "    <tr style=\"text-align: right;\">\n",
       "      <th></th>\n",
       "      <th>business_date</th>\n",
       "      <th>row_op</th>\n",
       "      <th>z_score</th>\n",
       "    </tr>\n",
       "  </thead>\n",
       "  <tbody>\n",
       "    <tr>\n",
       "      <th>9</th>\n",
       "      <td>2025-01-14</td>\n",
       "      <td>300.0</td>\n",
       "      <td>2.845011</td>\n",
       "    </tr>\n",
       "    <tr>\n",
       "      <th>52</th>\n",
       "      <td>2025-03-14</td>\n",
       "      <td>100.0</td>\n",
       "      <td>-2.802669</td>\n",
       "    </tr>\n",
       "    <tr>\n",
       "      <th>92</th>\n",
       "      <td>2025-05-09</td>\n",
       "      <td>180.0</td>\n",
       "      <td>2.780993</td>\n",
       "    </tr>\n",
       "  </tbody>\n",
       "</table>\n",
       "</div>"
      ],
      "text/plain": [
       "   business_date  row_op   z_score\n",
       "9     2025-01-14   300.0  2.845011\n",
       "52    2025-03-14   100.0 -2.802669\n",
       "92    2025-05-09   180.0  2.780993"
      ]
     },
     "metadata": {},
     "output_type": "display_data"
    }
   ],
   "source": [
    "df = detect_anomalies(df)\n",
    "display(df[df['is_anomaly']][['business_date', 'row_op', 'z_score']].head())"
   ]
  },
  {
   "cell_type": "markdown",
   "id": "000ceb42-16c5-4c1d-9caf-b449935efe58",
   "metadata": {},
   "source": [
    "Output shows max Z-score, top outliers, and detected anomalies"
   ]
  },
  {
   "cell_type": "markdown",
   "id": "c9200731-ccb4-4f30-8763-07120792cfff",
   "metadata": {},
   "source": [
    "## 4. Check New Value Anomaly Function"
   ]
  },
  {
   "cell_type": "code",
   "execution_count": 6,
   "id": "3c2a9978-445c-4ac7-a04c-54ccd52ff40d",
   "metadata": {},
   "outputs": [],
   "source": [
    "def check_new_value_anomaly(new_value: float, recent_data: pd.DataFrame,\n",
    "                          window: int = 10, threshold: float = 1.5) -> bool:\n",
    "    \"\"\"Check if new value is an anomaly based on recent trends.\"\"\"\n",
    "    if len(recent_data) < window:\n",
    "        return False\n",
    "        \n",
    "    recent = recent_data[-window:][['row_op']]\n",
    "    rolling_mean = recent['row_op'].mean()\n",
    "    rolling_std = recent['row_op'].std() or 1.0\n",
    "    z_score = abs((new_value - rolling_mean) / rolling_std)\n",
    "    \n",
    "    print(f\"New value: {new_value}\")\n",
    "    print(f\"Recent mean: {rolling_mean:.2f}, std: {rolling_std:.2f}\")\n",
    "    print(f\"Z-score: {z_score:.2f}\")\n",
    "    \n",
    "    return z_score > threshold"
   ]
  },
  {
   "cell_type": "code",
   "execution_count": 7,
   "id": "f8d7781b-2982-474c-b080-d2ff62d0bf74",
   "metadata": {},
   "outputs": [
    {
     "name": "stdout",
     "output_type": "stream",
     "text": [
      "\n",
      "Testing new value...\n",
      "New value: 350\n",
      "Recent mean: 160.92, std: 6.91\n",
      "Z-score: 27.36\n",
      "\n",
      "Is anomaly? Yes\n"
     ]
    }
   ],
   "source": [
    "# Test new value\n",
    "test_value = 350\n",
    "print(\"\\nTesting new value...\")\n",
    "is_anomaly = check_new_value_anomaly(test_value, df)\n",
    "print(f\"\\nIs anomaly? {'Yes' if is_anomaly else 'No'}\")"
   ]
  },
  {
   "cell_type": "markdown",
   "id": "f076cd68-30c3-4ded-85ef-38c92b5a997e",
   "metadata": {},
   "source": [
    "Anomaly of new value has been detected correctly."
   ]
  },
  {
   "cell_type": "markdown",
   "id": "d42d3472-5770-4f57-a293-da51a647914c",
   "metadata": {},
   "source": [
    "## 5. Result Visualization"
   ]
  },
  {
   "cell_type": "code",
   "execution_count": 8,
   "id": "37093354-7cdb-4a6e-b1cb-5afb17e944f4",
   "metadata": {},
   "outputs": [],
   "source": [
    "def plot_anomalies(df: pd.DataFrame):\n",
    "    \"\"\"Plot row count trend with anomalies.\"\"\"\n",
    "    plt.figure(figsize=(12, 6))\n",
    "    plt.plot(df['business_date'], df['row_op'], label='Normal')\n",
    "    plt.scatter(df[df['is_anomaly']]['business_date'], \n",
    "               df[df['is_anomaly']]['row_op'],\n",
    "               color='red', label='Anomalies', marker='x', s=100)\n",
    "    \n",
    "    plt.title('Time Series with Anomalies', fontsize=14)\n",
    "    plt.xlabel('Date', fontsize=12)\n",
    "    plt.ylabel('Row Output', fontsize=12)\n",
    "    plt.legend()\n",
    "    plt.xticks(rotation=45)\n",
    "    plt.grid(True, linestyle='--', alpha=0.3)\n",
    "    plt.tight_layout()\n",
    "    plt.show()"
   ]
  },
  {
   "cell_type": "code",
   "execution_count": 9,
   "id": "dadb3a87-9f22-4a06-a4aa-43af7527023c",
   "metadata": {},
   "outputs": [
    {
     "name": "stdout",
     "output_type": "stream",
     "text": [
      "\n",
      "Generating visualization...\n"
     ]
    },
    {
     "data": {
      "image/png": "[encoded data removed]",
      "text/plain": [
       "<Figure size 1200x600 with 1 Axes>"
      ]
     },
     "metadata": {},
     "output_type": "display_data"
    }
   ],
   "source": [
    "# Visualize results\n",
    "print(\"\\nGenerating visualization...\")\n",
    "plot_anomalies(df)"
   ]
  },
  {
   "cell_type": "code",
   "execution_count": null,
   "id": "6380007d-7543-41f9-b5ac-4a86be3bf286",
   "metadata": {},
   "outputs": [],
   "source": []
  },
  {
   "cell_type": "code",
   "execution_count": null,
   "id": "779cc01e-5571-4ce1-8974-786144b24077",
   "metadata": {},
   "outputs": [],
   "source": []
  }
 ],
 "metadata": {
  "kernelspec": {
   "display_name": "Python 3 (ipykernel)",
   "language": "python",
   "name": "python3"
  },
  "language_info": {
   "codemirror_mode": {
    "name": "ipython",
    "version": 3
   },
   "file_extension": ".py",
   "mimetype": "text/x-python",
   "name": "python",
   "nbconvert_exporter": "python",
   "pygments_lexer": "ipython3",
   "version": "3.10.16"
  }
 },
 "nbformat": 4,
 "nbformat_minor": 5
}
